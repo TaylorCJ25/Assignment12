{
 "cells": [
  {
   "cell_type": "markdown",
   "metadata": {
    "collapsed": true,
    "pycharm": {
     "name": "#%% md\n"
    }
   },
   "source": [
    "# IS 362 Assignment 12 \n",
    "##  Preprocessing Data for scikit-learn\n",
    "## Taylor Clark Jones\n",
    "Very often, we’re tasked with taking data in one form and transforming it for easier downstream analysis. In this\n",
    "assignment, you’ll use what you’ve learned in the course to prepare data for predictive analysis in Project 4.\n",
    "\n",
    "We'll first start this project by loading in the dataset and adding meaningful names for each column,"
   ]
  },
  {
   "cell_type": "code",
   "execution_count": 66,
   "outputs": [],
   "source": [
    "import pandas as pd\n",
    "import matplotlib.pyplot as plt"
   ],
   "metadata": {
    "collapsed": false,
    "pycharm": {
     "name": "#%%\n"
    }
   }
  },
  {
   "cell_type": "code",
   "execution_count": 67,
   "outputs": [],
   "source": [
    "#column names taken from attribute list feqatured on: https://archive.ics.uci.edu/ml/datasets/Mushroom\n",
    "columns =  ['target', 'cap-shape', 'cap-surface', 'cap-color', 'bruises', 'odor',\n",
    "           'gill-attachment', 'gill-spacing', 'gill-size', 'gill-color', 'stalk-shape',\n",
    "           'stalk-root', 'stalk-surface-above-ring', 'stack-surface-below-ring',\n",
    "           'stalk-color-above-ring', 'stalk-color-below-ring', 'veil-type', 'veil-color',\n",
    "           'ring-number', 'ring-type', 'spore-print-color', 'population', 'habitat']\n",
    "df = pd.read_csv('file:///C:/Users/HP/Downloads/agaricus-lepiota.data', names=columns)"
   ],
   "metadata": {
    "collapsed": false,
    "pycharm": {
     "name": "#%%\n"
    }
   }
  },
  {
   "cell_type": "code",
   "source": [
    "df.head()\n",
    "\n"
   ],
   "metadata": {
    "collapsed": false,
    "pycharm": {
     "name": "#%%\n"
    }
   },
   "execution_count": 68,
   "outputs": [
    {
     "data": {
      "text/plain": "  target cap-shape cap-surface cap-color bruises odor gill-attachment  \\\n0      p         x           s         n       t    p               f   \n1      e         x           s         y       t    a               f   \n2      e         b           s         w       t    l               f   \n3      p         x           y         w       t    p               f   \n4      e         x           s         g       f    n               f   \n\n  gill-spacing gill-size gill-color  ... stack-surface-below-ring  \\\n0            c         n          k  ...                        s   \n1            c         b          k  ...                        s   \n2            c         b          n  ...                        s   \n3            c         n          n  ...                        s   \n4            w         b          k  ...                        s   \n\n  stalk-color-above-ring stalk-color-below-ring veil-type veil-color  \\\n0                      w                      w         p          w   \n1                      w                      w         p          w   \n2                      w                      w         p          w   \n3                      w                      w         p          w   \n4                      w                      w         p          w   \n\n  ring-number ring-type spore-print-color population habitat  \n0           o         p                 k          s       u  \n1           o         p                 n          n       g  \n2           o         p                 n          n       m  \n3           o         p                 k          s       u  \n4           o         e                 n          a       g  \n\n[5 rows x 23 columns]",
      "text/html": "<div>\n<style scoped>\n    .dataframe tbody tr th:only-of-type {\n        vertical-align: middle;\n    }\n\n    .dataframe tbody tr th {\n        vertical-align: top;\n    }\n\n    .dataframe thead th {\n        text-align: right;\n    }\n</style>\n<table border=\"1\" class=\"dataframe\">\n  <thead>\n    <tr style=\"text-align: right;\">\n      <th></th>\n      <th>target</th>\n      <th>cap-shape</th>\n      <th>cap-surface</th>\n      <th>cap-color</th>\n      <th>bruises</th>\n      <th>odor</th>\n      <th>gill-attachment</th>\n      <th>gill-spacing</th>\n      <th>gill-size</th>\n      <th>gill-color</th>\n      <th>...</th>\n      <th>stack-surface-below-ring</th>\n      <th>stalk-color-above-ring</th>\n      <th>stalk-color-below-ring</th>\n      <th>veil-type</th>\n      <th>veil-color</th>\n      <th>ring-number</th>\n      <th>ring-type</th>\n      <th>spore-print-color</th>\n      <th>population</th>\n      <th>habitat</th>\n    </tr>\n  </thead>\n  <tbody>\n    <tr>\n      <th>0</th>\n      <td>p</td>\n      <td>x</td>\n      <td>s</td>\n      <td>n</td>\n      <td>t</td>\n      <td>p</td>\n      <td>f</td>\n      <td>c</td>\n      <td>n</td>\n      <td>k</td>\n      <td>...</td>\n      <td>s</td>\n      <td>w</td>\n      <td>w</td>\n      <td>p</td>\n      <td>w</td>\n      <td>o</td>\n      <td>p</td>\n      <td>k</td>\n      <td>s</td>\n      <td>u</td>\n    </tr>\n    <tr>\n      <th>1</th>\n      <td>e</td>\n      <td>x</td>\n      <td>s</td>\n      <td>y</td>\n      <td>t</td>\n      <td>a</td>\n      <td>f</td>\n      <td>c</td>\n      <td>b</td>\n      <td>k</td>\n      <td>...</td>\n      <td>s</td>\n      <td>w</td>\n      <td>w</td>\n      <td>p</td>\n      <td>w</td>\n      <td>o</td>\n      <td>p</td>\n      <td>n</td>\n      <td>n</td>\n      <td>g</td>\n    </tr>\n    <tr>\n      <th>2</th>\n      <td>e</td>\n      <td>b</td>\n      <td>s</td>\n      <td>w</td>\n      <td>t</td>\n      <td>l</td>\n      <td>f</td>\n      <td>c</td>\n      <td>b</td>\n      <td>n</td>\n      <td>...</td>\n      <td>s</td>\n      <td>w</td>\n      <td>w</td>\n      <td>p</td>\n      <td>w</td>\n      <td>o</td>\n      <td>p</td>\n      <td>n</td>\n      <td>n</td>\n      <td>m</td>\n    </tr>\n    <tr>\n      <th>3</th>\n      <td>p</td>\n      <td>x</td>\n      <td>y</td>\n      <td>w</td>\n      <td>t</td>\n      <td>p</td>\n      <td>f</td>\n      <td>c</td>\n      <td>n</td>\n      <td>n</td>\n      <td>...</td>\n      <td>s</td>\n      <td>w</td>\n      <td>w</td>\n      <td>p</td>\n      <td>w</td>\n      <td>o</td>\n      <td>p</td>\n      <td>k</td>\n      <td>s</td>\n      <td>u</td>\n    </tr>\n    <tr>\n      <th>4</th>\n      <td>e</td>\n      <td>x</td>\n      <td>s</td>\n      <td>g</td>\n      <td>f</td>\n      <td>n</td>\n      <td>f</td>\n      <td>w</td>\n      <td>b</td>\n      <td>k</td>\n      <td>...</td>\n      <td>s</td>\n      <td>w</td>\n      <td>w</td>\n      <td>p</td>\n      <td>w</td>\n      <td>o</td>\n      <td>e</td>\n      <td>n</td>\n      <td>a</td>\n      <td>g</td>\n    </tr>\n  </tbody>\n</table>\n<p>5 rows × 23 columns</p>\n</div>"
     },
     "execution_count": 68,
     "metadata": {},
     "output_type": "execute_result"
    }
   ]
  },
  {
   "cell_type": "markdown",
   "source": [
    "####  Create a pandas DataFrame with a subset of the columns in the dataset. You should include the column that indicates edible or poisonous, the column that includes odor, and at least one other column of your choosing.\n"
   ],
   "metadata": {
    "collapsed": false,
    "pycharm": {
     "name": "#%% md\n"
    }
   }
  },
  {
   "cell_type": "code",
   "execution_count": 69,
   "outputs": [],
   "source": [
    "df_subset = df[['target', 'odor', 'gill-color']]"
   ],
   "metadata": {
    "collapsed": false,
    "pycharm": {
     "name": "#%%\n"
    }
   }
  },
  {
   "cell_type": "markdown",
   "source": [
    "#### Replace the codes used in the data with numeric values—for example, in the first “target” column, “e” might become 0 and “p” might become 1. This is because your downstream processing in Project 4 using scikit-learn requires that values be stored as numerics."
   ],
   "metadata": {
    "collapsed": false,
    "pycharm": {
     "name": "#%% md\n"
    }
   }
  },
  {
   "cell_type": "code",
   "execution_count": 70,
   "outputs": [
    {
     "name": "stderr",
     "output_type": "stream",
     "text": [
      "C:\\Users\\HP\\AppData\\Local\\Temp\\ipykernel_84472\\2888384435.py:1: SettingWithCopyWarning: \n",
      "A value is trying to be set on a copy of a slice from a DataFrame\n",
      "\n",
      "See the caveats in the documentation: https://pandas.pydata.org/pandas-docs/stable/user_guide/indexing.html#returning-a-view-versus-a-copy\n",
      "  df_subset['target'].replace({'p': 1, 'e': 0}, inplace=True)\n"
     ]
    }
   ],
   "source": [
    "df_subset['target'].replace({'p': 1, 'e': 0}, inplace=True)\n"
   ],
   "metadata": {
    "collapsed": false,
    "pycharm": {
     "name": "#%%\n"
    }
   }
  },
  {
   "cell_type": "code",
   "execution_count": 71,
   "outputs": [
    {
     "data": {
      "text/plain": "   target odor gill-color\n0       1    p          k\n1       0    a          k\n2       0    l          n\n3       1    p          n\n4       0    n          k",
      "text/html": "<div>\n<style scoped>\n    .dataframe tbody tr th:only-of-type {\n        vertical-align: middle;\n    }\n\n    .dataframe tbody tr th {\n        vertical-align: top;\n    }\n\n    .dataframe thead th {\n        text-align: right;\n    }\n</style>\n<table border=\"1\" class=\"dataframe\">\n  <thead>\n    <tr style=\"text-align: right;\">\n      <th></th>\n      <th>target</th>\n      <th>odor</th>\n      <th>gill-color</th>\n    </tr>\n  </thead>\n  <tbody>\n    <tr>\n      <th>0</th>\n      <td>1</td>\n      <td>p</td>\n      <td>k</td>\n    </tr>\n    <tr>\n      <th>1</th>\n      <td>0</td>\n      <td>a</td>\n      <td>k</td>\n    </tr>\n    <tr>\n      <th>2</th>\n      <td>0</td>\n      <td>l</td>\n      <td>n</td>\n    </tr>\n    <tr>\n      <th>3</th>\n      <td>1</td>\n      <td>p</td>\n      <td>n</td>\n    </tr>\n    <tr>\n      <th>4</th>\n      <td>0</td>\n      <td>n</td>\n      <td>k</td>\n    </tr>\n  </tbody>\n</table>\n</div>"
     },
     "execution_count": 71,
     "metadata": {},
     "output_type": "execute_result"
    }
   ],
   "source": [
    "# check to ensure values have changed\n",
    "df_subset.head()"
   ],
   "metadata": {
    "collapsed": false,
    "pycharm": {
     "name": "#%%\n"
    }
   }
  },
  {
   "cell_type": "markdown",
   "source": [
    "#### exploratory data analysis: I will show the distribution of data for each of the columns I've selected, and show scatterplots for edible/poisonous vs. odor as well as the other column that you selected."
   ],
   "metadata": {
    "collapsed": false
   }
  },
  {
   "cell_type": "code",
   "execution_count": 72,
   "outputs": [
    {
     "data": {
      "text/plain": "0    0.517971\n1    0.482029\nName: target, dtype: float64"
     },
     "execution_count": 72,
     "metadata": {},
     "output_type": "execute_result"
    }
   ],
   "source": [
    "df_subset['target'].value_counts(normalize=True)"
   ],
   "metadata": {
    "collapsed": false,
    "pycharm": {
     "name": "#%%\n"
    }
   }
  },
  {
   "cell_type": "markdown",
   "source": [
    "For the target column the variable '0' represents edible, while the variable '1' represents poisonous.\n",
    "According to the decimals there are more edible mushrooms with a decimal of '0.517971' that can be converted and rounded to 52%.\n",
    "\n",
    "While poisonous mushrooms, with a decimal of '0.482029', can br converted and rounded t0 48% of mushrooms."
   ],
   "metadata": {
    "collapsed": false,
    "pycharm": {
     "name": "#%% md\n"
    }
   }
  },
  {
   "cell_type": "code",
   "execution_count": 73,
   "outputs": [
    {
     "data": {
      "text/plain": "n    0.434269\nf    0.265879\ny    0.070901\ns    0.070901\na    0.049237\nl    0.049237\np    0.031512\nc    0.023634\nm    0.004431\nName: odor, dtype: float64"
     },
     "execution_count": 73,
     "metadata": {},
     "output_type": "execute_result"
    }
   ],
   "source": [
    "# for reference the letters displayed under odor is as follows: almond=a,anise=l,creosote=c,fishy=y,foul=f, musty=m,none=n,pungent=p,spicy=s\n",
    "df_subset['odor'].value_counts(normalize=True)"
   ],
   "metadata": {
    "collapsed": false,
    "pycharm": {
     "name": "#%%\n"
    }
   }
  },
  {
   "cell_type": "markdown",
   "source": [
    "Most mushrooms have no order, with 'n' (non) having a decimal of '0.434269' which converts to 43% of mushrooms.\n",
    "\n",
    "With '0.265879' (or 27%) of mushrooms being assigned to 'f', a fishy order."
   ],
   "metadata": {
    "collapsed": false
   }
  },
  {
   "cell_type": "code",
   "execution_count": 74,
   "outputs": [
    {
     "data": {
      "text/plain": "b    0.212703\np    0.183653\nw    0.147957\nn    0.129000\ng    0.092565\nh    0.090103\nu    0.060561\nk    0.050222\ne    0.011817\ny    0.010586\no    0.007878\nr    0.002954\nName: gill-color, dtype: float64"
     },
     "execution_count": 74,
     "metadata": {},
     "output_type": "execute_result"
    }
   ],
   "source": [
    "# for reference the letter displayed under gill-color is as follows: black=k,brown=n,buff=b,chocolate=h,gray=g, green=r,orange=o,pink=p,purple=u,red=e, white=w,yellow=y\n",
    "df_subset['gill-color'].value_counts(normalize=True)"
   ],
   "metadata": {
    "collapsed": false,
    "pycharm": {
     "name": "#%%\n"
    }
   }
  },
  {
   "cell_type": "markdown",
   "source": [
    "The most common gill color is 'b' which stands for buff with a decimal of '0.212703' (or 21%). With 'p', which stands for pink, having a decimal of '0.183653' (18%) and 'w', or white, having a decimal of '9.147957' (15%).\n",
    "\n",
    "The gill color of a mushroom is a prominent feature of a mushroom that allows people to see if a mushroom is poisonous or not. According to sciencing.com poisonous mushrooms also have \"with a ring around the stem and those with a volva.\"\n",
    "website: https://sciencing.com/identify-poisonous-mushrooms-2057768.html"
   ],
   "metadata": {
    "collapsed": false
   }
  },
  {
   "cell_type": "markdown",
   "source": [
    "### edible/poisonous mushrooms Vs. mushroom odor\n",
    "\n",
    "In the same science.com article, they state \"Poisonous mushrooms often have an unpleasant, acrid smell, while benign ones smell refreshingly mushroomlike.\"\n",
    "\n",
    "We will cross-check the smell of a mushroom (odor) with the edibility of a mushroom (target)."
   ],
   "metadata": {
    "collapsed": false,
    "pycharm": {
     "name": "#%% md\n"
    }
   }
  },
  {
   "cell_type": "code",
   "execution_count": 75,
   "outputs": [
    {
     "data": {
      "text/plain": "             gill-color\nodor target            \na    0              400\nc    1              192\nf    1             2160\nl    0              400\nm    1               36\nn    0             3408\n     1              120\np    1              256\ns    1              576\ny    1              576",
      "text/html": "<div>\n<style scoped>\n    .dataframe tbody tr th:only-of-type {\n        vertical-align: middle;\n    }\n\n    .dataframe tbody tr th {\n        vertical-align: top;\n    }\n\n    .dataframe thead th {\n        text-align: right;\n    }\n</style>\n<table border=\"1\" class=\"dataframe\">\n  <thead>\n    <tr style=\"text-align: right;\">\n      <th></th>\n      <th></th>\n      <th>gill-color</th>\n    </tr>\n    <tr>\n      <th>odor</th>\n      <th>target</th>\n      <th></th>\n    </tr>\n  </thead>\n  <tbody>\n    <tr>\n      <th>a</th>\n      <th>0</th>\n      <td>400</td>\n    </tr>\n    <tr>\n      <th>c</th>\n      <th>1</th>\n      <td>192</td>\n    </tr>\n    <tr>\n      <th>f</th>\n      <th>1</th>\n      <td>2160</td>\n    </tr>\n    <tr>\n      <th>l</th>\n      <th>0</th>\n      <td>400</td>\n    </tr>\n    <tr>\n      <th>m</th>\n      <th>1</th>\n      <td>36</td>\n    </tr>\n    <tr>\n      <th rowspan=\"2\" valign=\"top\">n</th>\n      <th>0</th>\n      <td>3408</td>\n    </tr>\n    <tr>\n      <th>1</th>\n      <td>120</td>\n    </tr>\n    <tr>\n      <th>p</th>\n      <th>1</th>\n      <td>256</td>\n    </tr>\n    <tr>\n      <th>s</th>\n      <th>1</th>\n      <td>576</td>\n    </tr>\n    <tr>\n      <th>y</th>\n      <th>1</th>\n      <td>576</td>\n    </tr>\n  </tbody>\n</table>\n</div>"
     },
     "execution_count": 75,
     "metadata": {},
     "output_type": "execute_result"
    }
   ],
   "source": [
    "#As previously stated variable 'o' is edible while '1' is poisonous.\n",
    "df_subset.groupby(['odor', 'target']).count()"
   ],
   "metadata": {
    "collapsed": false,
    "pycharm": {
     "name": "#%%\n"
    }
   }
  },
  {
   "cell_type": "markdown",
   "source": [
    "Supporting the science article, smells 'fishy', 'spicy' , foul' , and other unpleasant smells correspond with the variable '1' marking them as poisonous.\n",
    "While smells like 'almond' , 'anise' and 'none' are safe to consume."
   ],
   "metadata": {
    "collapsed": false,
    "pycharm": {
     "name": "#%% md\n"
    }
   }
  },
  {
   "cell_type": "markdown",
   "source": [
    "I mentioned gill color being a indicator of a poisonous mushroom earlier within this notebook. We will now cross examine both columns (gill-color and target0 to verify."
   ],
   "metadata": {
    "collapsed": false,
    "pycharm": {
     "name": "#%% md\n"
    }
   }
  },
  {
   "cell_type": "code",
   "execution_count": 76,
   "outputs": [
    {
     "data": {
      "text/plain": "                   odor\ngill-color target      \nb          1       1728\ne          0         96\ng          0        248\n           1        504\nh          0        204\n           1        528\nk          0        344\n           1         64\nn          0        936\n           1        112\no          0         64\np          0        852\n           1        640\nr          1         24\nu          0        444\n           1         48\nw          0        956\n           1        246\ny          0         64\n           1         22",
      "text/html": "<div>\n<style scoped>\n    .dataframe tbody tr th:only-of-type {\n        vertical-align: middle;\n    }\n\n    .dataframe tbody tr th {\n        vertical-align: top;\n    }\n\n    .dataframe thead th {\n        text-align: right;\n    }\n</style>\n<table border=\"1\" class=\"dataframe\">\n  <thead>\n    <tr style=\"text-align: right;\">\n      <th></th>\n      <th></th>\n      <th>odor</th>\n    </tr>\n    <tr>\n      <th>gill-color</th>\n      <th>target</th>\n      <th></th>\n    </tr>\n  </thead>\n  <tbody>\n    <tr>\n      <th>b</th>\n      <th>1</th>\n      <td>1728</td>\n    </tr>\n    <tr>\n      <th>e</th>\n      <th>0</th>\n      <td>96</td>\n    </tr>\n    <tr>\n      <th rowspan=\"2\" valign=\"top\">g</th>\n      <th>0</th>\n      <td>248</td>\n    </tr>\n    <tr>\n      <th>1</th>\n      <td>504</td>\n    </tr>\n    <tr>\n      <th rowspan=\"2\" valign=\"top\">h</th>\n      <th>0</th>\n      <td>204</td>\n    </tr>\n    <tr>\n      <th>1</th>\n      <td>528</td>\n    </tr>\n    <tr>\n      <th rowspan=\"2\" valign=\"top\">k</th>\n      <th>0</th>\n      <td>344</td>\n    </tr>\n    <tr>\n      <th>1</th>\n      <td>64</td>\n    </tr>\n    <tr>\n      <th rowspan=\"2\" valign=\"top\">n</th>\n      <th>0</th>\n      <td>936</td>\n    </tr>\n    <tr>\n      <th>1</th>\n      <td>112</td>\n    </tr>\n    <tr>\n      <th>o</th>\n      <th>0</th>\n      <td>64</td>\n    </tr>\n    <tr>\n      <th rowspan=\"2\" valign=\"top\">p</th>\n      <th>0</th>\n      <td>852</td>\n    </tr>\n    <tr>\n      <th>1</th>\n      <td>640</td>\n    </tr>\n    <tr>\n      <th>r</th>\n      <th>1</th>\n      <td>24</td>\n    </tr>\n    <tr>\n      <th rowspan=\"2\" valign=\"top\">u</th>\n      <th>0</th>\n      <td>444</td>\n    </tr>\n    <tr>\n      <th>1</th>\n      <td>48</td>\n    </tr>\n    <tr>\n      <th rowspan=\"2\" valign=\"top\">w</th>\n      <th>0</th>\n      <td>956</td>\n    </tr>\n    <tr>\n      <th>1</th>\n      <td>246</td>\n    </tr>\n    <tr>\n      <th rowspan=\"2\" valign=\"top\">y</th>\n      <th>0</th>\n      <td>64</td>\n    </tr>\n    <tr>\n      <th>1</th>\n      <td>22</td>\n    </tr>\n  </tbody>\n</table>\n</div>"
     },
     "execution_count": 76,
     "metadata": {},
     "output_type": "execute_result"
    }
   ],
   "source": [
    "df_subset.groupby(['gill-color', 'target']).count()"
   ],
   "metadata": {
    "collapsed": false,
    "pycharm": {
     "name": "#%%\n"
    }
   }
  },
  {
   "cell_type": "markdown",
   "source": [
    "As you can see the color of a mushroom can be an indicator of edibility but colors such as 'w', 'y' , 'p' , and 'g' have both poisonous and edible mushrooms matching their color description.\n",
    "However mushrooms with a gill-color of 'b' or 'buff' are all poisonous.  "
   ],
   "metadata": {
    "collapsed": false
   }
  }
 ],
 "metadata": {
  "kernelspec": {
   "display_name": "Python 3",
   "language": "python",
   "name": "python3"
  },
  "language_info": {
   "codemirror_mode": {
    "name": "ipython",
    "version": 2
   },
   "file_extension": ".py",
   "mimetype": "text/x-python",
   "name": "python",
   "nbconvert_exporter": "python",
   "pygments_lexer": "ipython2",
   "version": "2.7.6"
  }
 },
 "nbformat": 4,
 "nbformat_minor": 0
}